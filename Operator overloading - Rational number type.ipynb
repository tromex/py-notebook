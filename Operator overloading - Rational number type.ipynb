{
 "metadata": {
  "name": ""
 },
 "nbformat": 3,
 "nbformat_minor": 0,
 "worksheets": [
  {
   "cells": [
    {
     "cell_type": "heading",
     "level": 1,
     "metadata": {},
     "source": [
      "Operator overloading - Rational number type"
     ]
    },
    {
     "cell_type": "markdown",
     "metadata": {},
     "source": [
      "source: http://anandology.com/python-practice-book/object_oriented_programming.html"
     ]
    },
    {
     "cell_type": "code",
     "collapsed": false,
     "input": [
      "class RationalNumber:\n",
      "    \"\"\"\n",
      "    Rational Numbers with support for arthmetic operations.\n",
      "\n",
      "        >>> a = RationalNumber(1, 2)\n",
      "        >>> b = RationalNumber(1, 3)\n",
      "        >>> a + b\n",
      "        5/6\n",
      "        >>> a - b\n",
      "        1/6\n",
      "        >>> a * b\n",
      "        1/6\n",
      "        >>> a/b\n",
      "        3/2\n",
      "    \"\"\"\n",
      "    def __init__(self, numerator, denominator=1):\n",
      "        self.n = numerator\n",
      "        self.d = denominator\n",
      "\n",
      "    def __add__(self, other):\n",
      "        if not isinstance(other, RationalNumber):\n",
      "            other = RationalNumber(other)\n",
      "\n",
      "        n = self.n * other.d + self.d * other.n\n",
      "        d = self.d * other.d\n",
      "        return RationalNumber(n, d)\n",
      "\n",
      "    def __sub__(self, other):\n",
      "        if not isinstance(other, RationalNumber):\n",
      "            other = RationalNumber(other)\n",
      "\n",
      "        n1, d1 = self.n, self.d\n",
      "        n2, d2 = other.n, other.d\n",
      "        return RationalNumber(n1*d2 - n2*d1, d1*d2)\n",
      "\n",
      "    def __mul__(self, other):\n",
      "        if not isinstance(other, RationalNumber):\n",
      "            other = RationalNumber(other)\n",
      "\n",
      "        n1, d1 = self.n, self.d\n",
      "        n2, d2 = other.n, other.d\n",
      "        return RationalNumber(n1*n2, d1*d2)\n",
      "\n",
      "    def __div__(self, other):\n",
      "        if not isinstance(other, RationalNumber):\n",
      "            other = RationalNumber(other)\n",
      "\n",
      "        n1, d1 = self.n, self.d\n",
      "        n2, d2 = other.n, other.d\n",
      "        return RationalNumber(n1*d2, d1*n2)\n",
      "\n",
      "    def __str__(self):\n",
      "        return \"%s/%s\" % (self.n, self.d)\n",
      "\n",
      "    __repr__ = __str__\n"
     ],
     "language": "python",
     "metadata": {},
     "outputs": [],
     "prompt_number": 22
    },
    {
     "cell_type": "heading",
     "level": 2,
     "metadata": {},
     "source": [
      "Use example:"
     ]
    },
    {
     "cell_type": "code",
     "collapsed": false,
     "input": [
      "a = RationalNumber(1, 2)\n",
      "b = RationalNumber(1, 3)\n",
      "print a + 1\n",
      "print a - b\n",
      "print a * b\n",
      "print a/b"
     ],
     "language": "python",
     "metadata": {},
     "outputs": [
      {
       "output_type": "stream",
       "stream": "stdout",
       "text": [
        "3/2\n",
        "1/6\n",
        "1/6\n",
        "3/2\n"
       ]
      }
     ],
     "prompt_number": 23
    },
    {
     "cell_type": "code",
     "collapsed": false,
     "input": [],
     "language": "python",
     "metadata": {},
     "outputs": []
    }
   ],
   "metadata": {}
  }
 ]
}