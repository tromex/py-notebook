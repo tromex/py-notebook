{
 "metadata": {
  "name": ""
 },
 "nbformat": 3,
 "nbformat_minor": 0,
 "worksheets": [
  {
   "cells": [
    {
     "cell_type": "heading",
     "level": 1,
     "metadata": {},
     "source": [
      "Factory method pattern"
     ]
    },
    {
     "cell_type": "heading",
     "level": 2,
     "metadata": {},
     "source": [
      "v1"
     ]
    },
    {
     "cell_type": "markdown",
     "metadata": {},
     "source": [
      "+ Notes: `DataFetcher.factory` code must be changed when a new SubClass is created."
     ]
    },
    {
     "cell_type": "code",
     "collapsed": false,
     "input": [
      "from abc import ABCMeta, abstractmethod\n",
      "\n",
      "class DataFetcher(object):\n",
      "    \"\"\"DataFetcher base class\"\"\"\n",
      "    __metaclass__ = ABCMeta\n",
      "    \n",
      "    def __init__(self, file_name):\n",
      "        self.file_name = file_name\n",
      "    \n",
      "    @staticmethod\n",
      "    def factory(file_name):\n",
      "        if file_name.endswith('.xls'):\n",
      "            return XLSDataFetcher(file_name)\n",
      "        elif file_name.endswith('.csv'):\n",
      "            return CSVDataFetcher(file_name)\n",
      "        else:\n",
      "            raise NotImplementedError\n",
      "\n",
      "    @abstractmethod\n",
      "    def fetch_data(self):\n",
      "        raise NotImplementedError\n",
      "        \n",
      "class XLSDataFetcher(DataFetcher):\n",
      "    \"\"\"DataFetcher for XLS files\"\"\"\n",
      "    def fetch_data(self):\n",
      "        print 'fetching XLS data from:', self.file_name\n",
      "    \n",
      "class CSVDataFetcher(DataFetcher):\n",
      "    \"\"\"DataFetcher for CSV files\"\"\"\n",
      "    def fetch_data(self):\n",
      "        print 'fetching CSV data from:', self.file_name\n",
      "        \n",
      "# Use Examples\n",
      "my_fetcher = DataFetcher.factory('datasheet.xls')\n",
      "print type(my_fetcher)\n",
      "my_fetcher.fetch_data()\n",
      "\n",
      "my_fetcher = DataFetcher.factory('another file.csv')\n",
      "print type(my_fetcher)\n",
      "my_fetcher.fetch_data()"
     ],
     "language": "python",
     "metadata": {},
     "outputs": [
      {
       "output_type": "stream",
       "stream": "stdout",
       "text": [
        "<class '__main__.XLSDataFetcher'>\n",
        "fetching XLS data from: datasheet.xls\n",
        "<class '__main__.CSVDataFetcher'>\n",
        "fetching CSV data from: another file.csv\n"
       ]
      }
     ],
     "prompt_number": 40
    },
    {
     "cell_type": "heading",
     "level": 2,
     "metadata": {},
     "source": [
      "v2"
     ]
    },
    {
     "cell_type": "markdown",
     "metadata": {},
     "source": [
      "+ Note: No modification required on .factory method when a new class is created..."
     ]
    },
    {
     "cell_type": "code",
     "collapsed": false,
     "input": [
      "from abc import ABCMeta, abstractmethod\n",
      "\n",
      "class DataFetcher(object):\n",
      "    \"\"\"DataFetcher base class\"\"\"\n",
      "    __metaclass__ = ABCMeta\n",
      "    \n",
      "    def __init__(self, file_name):\n",
      "        self.file_name = file_name\n",
      "    \n",
      "    @staticmethod\n",
      "    def factory(file_name):\n",
      "        # Send file_name to all subclasses to find one which supports it.\n",
      "        for cls in DataFetcher.__subclasses__():\n",
      "            if cls._check_format(file_name):\n",
      "                # Subclass found, return instance object\n",
      "                return cls(file_name)\n",
      "        # No subclass found\n",
      "        return NotImplementedError\n",
      "\n",
      "    @abstractmethod\n",
      "    def fetch_data(self):\n",
      "        raise NotImplementedError\n",
      "        \n",
      "    @staticmethod\n",
      "    def _check_format(file_name):\n",
      "        \"\"\"Subclasses override this method to register which format they support\"\"\"\n",
      "        return False\n",
      "        \n",
      "class XLSDataFetcher(DataFetcher):\n",
      "    \"\"\"DataFetcher for XLS files\"\"\"\n",
      "    def fetch_data(self):\n",
      "        print 'fetching XLS data from:', self.file_name\n",
      "        \n",
      "    @staticmethod\n",
      "    def _check_format(file_name):\n",
      "        \"\"\"Register with format xls\"\"\"\n",
      "        if file_name.endswith('.xls'):\n",
      "            return True\n",
      "    \n",
      "class CSVDataFetcher(DataFetcher):\n",
      "    \"\"\"DataFetcher for CSV files\"\"\"\n",
      "    def fetch_data(self):\n",
      "        print 'fetching CSV data from:', self.file_name\n",
      "        \n",
      "    @staticmethod\n",
      "    def _check_format(file_name):\n",
      "        \"\"\"Register with format csv\"\"\"\n",
      "        if file_name.endswith('.csv'):\n",
      "            return True\n",
      "        \n",
      "# Use Examples\n",
      "my_fetcher = DataFetcher.factory('datasheet.xls')\n",
      "print type(my_fetcher)\n",
      "my_fetcher.fetch_data()\n",
      "\n",
      "my_fetcher = DataFetcher.factory('another file.csv')\n",
      "print type(my_fetcher)\n",
      "my_fetcher.fetch_data()"
     ],
     "language": "python",
     "metadata": {},
     "outputs": [
      {
       "output_type": "stream",
       "stream": "stdout",
       "text": [
        "<class '__main__.XLSDataFetcher'>\n",
        "fetching XLS data from: datasheet.xls\n",
        "<class '__main__.CSVDataFetcher'>\n",
        "fetching CSV data from: another file.csv\n"
       ]
      }
     ],
     "prompt_number": 1
    },
    {
     "cell_type": "code",
     "collapsed": false,
     "input": [],
     "language": "python",
     "metadata": {},
     "outputs": []
    }
   ],
   "metadata": {}
  }
 ]
}