{
 "metadata": {
  "name": ""
 },
 "nbformat": 3,
 "nbformat_minor": 0,
 "worksheets": [
  {
   "cells": [
    {
     "cell_type": "heading",
     "level": 1,
     "metadata": {},
     "source": [
      "Inheritance - Drawing shapes on char canvas"
     ]
    },
    {
     "cell_type": "code",
     "collapsed": false,
     "input": [
      "class Canvas:\n",
      "    def __init__(self, width, height):\n",
      "        self.width = width\n",
      "        self.height = height\n",
      "        self.clear()\n",
      "\n",
      "    def setpixel(self, row, col):\n",
      "        try:\n",
      "            self.data[col][row] = '*'\n",
      "        except IndexError: \n",
      "            pass\n",
      "\n",
      "    def getpixel(self, row, col):\n",
      "        try:\n",
      "            return self.data[col][row]\n",
      "        except IndexError:\n",
      "            return None\n",
      "\n",
      "    def clear(self):\n",
      "        self.data = [[' '] * self.width for i in range(self.height)]\n",
      "    \n",
      "    def display(self):\n",
      "        print \"\\n\".join([\"\".join(row) for row in self.data])\n",
      "\n",
      "class Shape:\n",
      "    def paint(self, canvas): pass\n",
      "\n",
      "class Rectangle(Shape):\n",
      "    def __init__(self, x, y, w, h):\n",
      "        self.x = x\n",
      "        self.y = y\n",
      "        self.w = w\n",
      "        self.h = h\n",
      "\n",
      "    def hline(self, x, y, w):\n",
      "        for px in xrange(x, x + w, 1):\n",
      "            self._canvas.setpixel(px, y)\n",
      "\n",
      "    def vline(self, x, y, h):\n",
      "        for py in xrange(y, y + h, 1):\n",
      "            self._canvas.setpixel(x, py)\n",
      "\n",
      "    def paint(self, canvas):\n",
      "        self._canvas = canvas\n",
      "        self.hline(self.x, self.y, self.w)\n",
      "        self.hline(self.x, self.y + self.h - 1, self.w)\n",
      "        self.vline(self.x, self.y, self.h)\n",
      "        self.vline(self.x + self.w - 1, self.y, self.h)\n",
      "\n",
      "class Square(Rectangle):\n",
      "    def __init__(self, x, y, size):\n",
      "        Rectangle.__init__(self, x, y, size, size)\n",
      "\n",
      "class CompoundShape(Shape):\n",
      "    def __init__(self, shapes):\n",
      "        self.shapes = shapes\n",
      "\n",
      "    def paint(self, canvas):\n",
      "        for s in self.shapes:\n",
      "            s.paint(canvas)"
     ],
     "language": "python",
     "metadata": {},
     "outputs": [],
     "prompt_number": 60
    },
    {
     "cell_type": "heading",
     "level": 2,
     "metadata": {},
     "source": [
      "Ejemplo de uso"
     ]
    },
    {
     "cell_type": "code",
     "collapsed": false,
     "input": [
      "canvas = Canvas(20,10)\n",
      "rect = Rectangle(9,7,4,3)\n",
      "sq = Square(0,0,7)\n",
      "rect.paint(canvas)\n",
      "sq.paint(canvas)\n",
      "canvas.display()"
     ],
     "language": "python",
     "metadata": {},
     "outputs": [
      {
       "output_type": "stream",
       "stream": "stdout",
       "text": [
        "*******             \n",
        "*     *             \n",
        "*     *             \n",
        "*     *             \n",
        "*     *             \n",
        "*     *             \n",
        "*******             \n",
        "         ****       \n",
        "         *  *       \n",
        "         ****       \n"
       ]
      }
     ],
     "prompt_number": 65
    },
    {
     "cell_type": "code",
     "collapsed": false,
     "input": [],
     "language": "python",
     "metadata": {},
     "outputs": []
    }
   ],
   "metadata": {}
  }
 ]
}